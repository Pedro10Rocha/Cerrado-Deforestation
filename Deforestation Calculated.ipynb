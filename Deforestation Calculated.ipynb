{
 "cells": [
  {
   "cell_type": "markdown",
   "id": "cbef536a",
   "metadata": {},
   "source": [
    "## FINAL PROJECT\n",
    "\n",
    "\n",
    "Imports"
   ]
  },
  {
   "cell_type": "code",
   "execution_count": null,
   "id": "9b94c78e",
   "metadata": {},
   "outputs": [],
   "source": [
    "import numpy as np\n",
    "import pandas as pd\n",
    "from bs4 import BeautifulSoup\n",
    "import matplotlib.pyplot as plt\n",
    "import seaborn as sns\n",
    "import re #regular expressions library, \n",
    "%matplotlib inline\n",
    "import pandas as pd\n",
    "import numpy as np\n",
    "## plotting libraries\n",
    "from matplotlib import pyplot as plt\n",
    "import seaborn as sns\n",
    "## Sklearn libraries\n",
    "from sklearn import model_selection\n",
    "from sklearn.preprocessing import StandardScaler\n",
    "from sklearn.neighbors import KNeighborsClassifier\n",
    "from sklearn.metrics import plot_confusion_matrix\n",
    "from sklearn.metrics import accuracy_score, precision_score, recall_score\n",
    "from sklearn.tree import DecisionTreeClassifier\n",
    "from sklearn.tree import plot_tree\n",
    "\n",
    "import warnings\n",
    "warnings.filterwarnings('ignore')\n",
    "\n",
    "%matplotlib inline\n",
    "\n"
   ]
  },
  {
   "cell_type": "code",
   "execution_count": null,
   "id": "3f4f497f",
   "metadata": {},
   "outputs": [],
   "source": [
    "data = pd.read_csv(\"TABELA_GERAL_COL7_MAPBIOMAS_DESMAT_VEGSEC_UF.csv\") #to predict what category the news belongs\n",
    "data.head()"
   ]
  },
  {
   "cell_type": "code",
   "execution_count": null,
   "id": "7f070cdb",
   "metadata": {},
   "outputs": [],
   "source": [
    "data = data.drop(['Unnamed: 47', 'Unnamed: 48', 'Unnamed: 49', 'Unnamed: 50','Unnamed: 51'], axis = 1)\n",
    "data.head()"
   ]
  },
  {
   "cell_type": "code",
   "execution_count": null,
   "id": "36ed9d2f",
   "metadata": {},
   "outputs": [],
   "source": [
    "data = data.drop(['level_0', 'level_1', 'level_2', 'level_3','level_4','color','feature_id','dr_class_id','class_id','1986','1987','1988','1989','1990','1991','1992','1993','1994','1995','1996','1997','1998'], axis = 1)\n",
    "data = data.reset_index(drop=True)\n",
    "data.head()"
   ]
  },
  {
   "cell_type": "code",
   "execution_count": null,
   "id": "4c0fefc5",
   "metadata": {},
   "outputs": [],
   "source": [
    "data = data[:40606]\n",
    "data"
   ]
  },
  {
   "cell_type": "code",
   "execution_count": null,
   "id": "15f94770",
   "metadata": {},
   "outputs": [],
   "source": [
    "threshold = 0.65\n",
    "data = data.dropna(thresh=len(data)* (1-threshold), axis=1)\n",
    "data"
   ]
  },
  {
   "cell_type": "code",
   "execution_count": null,
   "id": "319b5539",
   "metadata": {},
   "outputs": [],
   "source": [
    "from skimpy import clean_columns\n",
    "from nltk.metrics import edit_distance\n",
    "   \n",
    "def fill_nans_with_means(df):\n",
    "    return df.fillna(df.mean()).round()\n",
    "\n",
    "x = fill_nans_with_means(data)\n",
    "x"
   ]
  },
  {
   "cell_type": "code",
   "execution_count": null,
   "id": "deb3eae9",
   "metadata": {},
   "outputs": [],
   "source": [
    "ge = x['city'].str.split(' - ', expand=True)\n",
    "ge = ge.rename(columns={0: 'City', 2: 'Bioma'})\n",
    "x['city'] = ge['City']\n",
    "x = x.join(ge['Bioma'])"
   ]
  },
  {
   "cell_type": "code",
   "execution_count": null,
   "id": "4d49961a",
   "metadata": {},
   "outputs": [],
   "source": [
    "x.rename(columns={'dr_class_name':'Deforestation'}, inplace=True)\n",
    "x"
   ]
  },
  {
   "cell_type": "code",
   "execution_count": null,
   "id": "d6d74e2c",
   "metadata": {},
   "outputs": [],
   "source": [
    "x = x[~x.isin(['Veg. Secundária', 'Supressão Veg. Primária','Recuperação para Veg. Secundária','Supressão Veg. Secundária','Outras transições']).any(axis=1)]\n",
    "x"
   ]
  },
  {
   "cell_type": "code",
   "execution_count": null,
   "id": "366d905d",
   "metadata": {
    "scrolled": true
   },
   "outputs": [],
   "source": [
    "x = x.groupby('city', as_index=False).sum()\n",
    "x"
   ]
  },
  {
   "cell_type": "markdown",
   "id": "bb1da694",
   "metadata": {},
   "source": [
    "# FROM HERE \n",
    "\n",
    "Calculating Deforestation"
   ]
  },
  {
   "cell_type": "code",
   "execution_count": null,
   "id": "ce428ad7",
   "metadata": {},
   "outputs": [],
   "source": [
    "x.to_csv('grouped_city.csv',index=False)"
   ]
  },
  {
   "cell_type": "code",
   "execution_count": null,
   "id": "3aea3e1c",
   "metadata": {},
   "outputs": [],
   "source": [
    "x=pd.read_csv('grouped_city.csv')"
   ]
  },
  {
   "cell_type": "code",
   "execution_count": null,
   "id": "7c2b6b1c",
   "metadata": {},
   "outputs": [],
   "source": [
    "years=x.columns[1:]"
   ]
  },
  {
   "cell_type": "code",
   "execution_count": null,
   "id": "d0065a57",
   "metadata": {},
   "outputs": [],
   "source": [
    "years"
   ]
  },
  {
   "cell_type": "code",
   "execution_count": null,
   "id": "7a80f204",
   "metadata": {},
   "outputs": [],
   "source": [
    "for j,y in enumerate(years):\n",
    "    if y == '2021':\n",
    "        break\n",
    "    else:\n",
    "        d=x[y]-x[years[j+1]]\n",
    "        x[f'def{y}']=-d    "
   ]
  },
  {
   "cell_type": "code",
   "execution_count": null,
   "id": "52f7d24e",
   "metadata": {},
   "outputs": [],
   "source": [
    "x"
   ]
  },
  {
   "cell_type": "code",
   "execution_count": null,
   "id": "5ecacf02",
   "metadata": {},
   "outputs": [],
   "source": [
    "x['def1999']"
   ]
  },
  {
   "cell_type": "markdown",
   "id": "2a094d77",
   "metadata": {},
   "source": [
    "#### Other way:\n",
    "\n",
    "x['2000'] = x['2000'] - x['2001']\n",
    "x['2001'] = x['2001'] - x['2002']\n",
    "x['2002'] = x['2002'] - x['2003']\n",
    "x['2003'] = x['2003'] - x['2004']\n",
    "x['2004'] = x['2004'] - x['2005']\n",
    "x['2005'] = x['2005'] - x['2006']\n",
    "x['2006'] = x['2006'] - x['2007']\n",
    "x['2007'] = x['2007'] - x['2008']\n",
    "x['2008'] = x['2008'] - x['2009']\n",
    "x['2009'] = x['2009'] - x['2010']\n",
    "x['2010'] = x['2010'] - x['2011']\n",
    "x['2011'] = x['2011'] - x['2012']\n",
    "x['2012'] = x['2012'] - x['2013']\n",
    "x['2013'] = x['2013'] - x['2014']\n",
    "x['2014'] = x['2014'] - x['2015']\n",
    "x['2015'] = x['2015'] - x['2016']\n",
    "x['2016'] = x['2016'] - x['2017']\n",
    "x['2017'] = x['2017'] - x['2018']\n",
    "x['2018'] = x['2018'] - x['2019']\n",
    "x['2019'] = x['2019'] - x['2020']\n",
    "\n",
    "#x['2020'] = x['2020'] - x['2021']\n",
    "\n",
    "x\n",
    "#for i in range(1, len(x)):\n",
    "    #x.at[i, 'b'] = x.at[i-1, 'A'] - x.at[i, 'b']"
   ]
  },
  {
   "cell_type": "markdown",
   "id": "fcdae138",
   "metadata": {},
   "source": [
    "## UNTIL HERE"
   ]
  },
  {
   "cell_type": "code",
   "execution_count": null,
   "id": "0e140a39",
   "metadata": {
    "scrolled": true
   },
   "outputs": [],
   "source": [
    "data1 = pd.read_csv(\"tabelao-setores-SEEG-Municipios-2_0-GWP-AR5-FINAL-SITE.csv\", encoding = \"ISO-8859-1\") \n",
    "data1.tail()"
   ]
  },
  {
   "cell_type": "code",
   "execution_count": null,
   "id": "75055aa1",
   "metadata": {},
   "outputs": [],
   "source": [
    "data1 = data1[~data1.isin(['Caatinga', 'Mata Atlântica','Pantanal','Pampa']).any(axis=1)]\n",
    "data1"
   ]
  },
  {
   "cell_type": "code",
   "execution_count": null,
   "id": "bf5dc73f",
   "metadata": {},
   "outputs": [],
   "source": [
    "data1.rename(columns={'setor':'sector', 'municipio':'city', 'bioma':'biome', 'tipo_emissao':'type_of_emission','atividade_economica':'Economic_Activity'}, inplace=True)\n",
    "data1"
   ]
  },
  {
   "cell_type": "code",
   "execution_count": null,
   "id": "18bf036e",
   "metadata": {},
   "outputs": [],
   "source": [
    "data1 = data1[~data1.isin(['Energia Elétrica', 'Aluminio e Outros Não Ferrosos da Metalurgia','Ferro e Aço']).any(axis=1)]\n",
    "data1"
   ]
  },
  {
   "cell_type": "code",
   "execution_count": null,
   "id": "2e61f287",
   "metadata": {},
   "outputs": [],
   "source": [
    "data1 = data1[~data1.isin(['Remoção', 'Bunker']).any(axis=1)]\n",
    "data1"
   ]
  },
  {
   "cell_type": "code",
   "execution_count": null,
   "id": "82abddd5",
   "metadata": {},
   "outputs": [],
   "source": [
    "data1 = data1[~data1.isin(['Cultivo de arroz','Emissões pela Queima de Combustíveis','Efluentes Liquidos']).any(axis=1)]\n",
    "data1"
   ]
  },
  {
   "cell_type": "code",
   "execution_count": null,
   "id": "8317948c",
   "metadata": {},
   "outputs": [],
   "source": [
    "data1 = data1[~data1.isin(['Produção de Combustíveis', 'Outras Industrias','Cimento','Residencial','Transporte','Metalurgia','Saneamento Básico','Uso de HFCs']).any(axis=1)]\n",
    "data1"
   ]
  },
  {
   "cell_type": "code",
   "execution_count": null,
   "id": "d3d3bb3b",
   "metadata": {},
   "outputs": [],
   "source": [
    "data1 = data1[~data1.isin(['Arroz', 'Feijão','Mandioca','Milho', 'Floresta primária -- Silvicultura', 'Floresta secundária -- Silvicultura','Vegetação não florestal secundária -- Silvicultura','Uso agropecuário -- Silvicultura' ]).any(axis=1)]\n",
    "data1"
   ]
  },
  {
   "cell_type": "code",
   "execution_count": null,
   "id": "68ac60f2",
   "metadata": {},
   "outputs": [],
   "source": [
    "data1 = data1.drop(['nivel_2', 'nivel_3', 'nivel_4', 'nivel_5','nivel_6','uf', 'ibge_cod', 'produto','sector','type_of_emission','Econonomic_Activity'], axis = 1)\n",
    "data1.tail()"
   ]
  },
  {
   "cell_type": "code",
   "execution_count": null,
   "id": "25291d26",
   "metadata": {},
   "outputs": [],
   "source": [
    "data1 = data1.groupby('city', as_index=False).sum()\n",
    "data1"
   ]
  }
 ],
 "metadata": {
  "kernelspec": {
   "display_name": "Python 3 (ipykernel)",
   "language": "python",
   "name": "python3"
  },
  "language_info": {
   "codemirror_mode": {
    "name": "ipython",
    "version": 3
   },
   "file_extension": ".py",
   "mimetype": "text/x-python",
   "name": "python",
   "nbconvert_exporter": "python",
   "pygments_lexer": "ipython3",
   "version": "3.9.13"
  }
 },
 "nbformat": 4,
 "nbformat_minor": 5
}
