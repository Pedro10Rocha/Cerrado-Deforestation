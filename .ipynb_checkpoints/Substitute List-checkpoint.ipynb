{
 "cells": [
  {
   "cell_type": "markdown",
   "id": "cbef536a",
   "metadata": {},
   "source": [
    "## FINAL PROJECT\n",
    "\n",
    "\n",
    "Imports"
   ]
  },
  {
   "cell_type": "code",
   "execution_count": null,
   "id": "9b94c78e",
   "metadata": {},
   "outputs": [],
   "source": [
    "import numpy as np\n",
    "import pandas as pd\n",
    "from bs4 import BeautifulSoup\n",
    "import matplotlib.pyplot as plt\n",
    "import seaborn as sns\n",
    "import re #regular expressions library, \n",
    "%matplotlib inline\n",
    "import pandas as pd\n",
    "import numpy as np\n",
    "## plotting libraries\n",
    "from matplotlib import pyplot as plt\n",
    "import seaborn as sns\n",
    "## Sklearn libraries\n",
    "from sklearn import model_selection\n",
    "from sklearn.preprocessing import StandardScaler\n",
    "from sklearn.neighbors import KNeighborsClassifier\n",
    "from sklearn.metrics import plot_confusion_matrix\n",
    "from sklearn.metrics import accuracy_score, precision_score, recall_score\n",
    "from sklearn.tree import DecisionTreeClassifier\n",
    "from sklearn.tree import plot_tree\n",
    "\n",
    "import warnings\n",
    "warnings.filterwarnings('ignore')\n",
    "\n",
    "%matplotlib inline\n",
    "\n"
   ]
  },
  {
   "cell_type": "code",
   "execution_count": null,
   "id": "3f4f497f",
   "metadata": {},
   "outputs": [],
   "source": [
    "data = pd.read_csv(\"TABELA_GERAL_COL7_MAPBIOMAS_DESMAT_VEGSEC_UF.csv\") #to predict what category the news belongs\n",
    "data.head()"
   ]
  },
  {
   "cell_type": "markdown",
   "id": "f99ba5e7",
   "metadata": {},
   "source": [
    "#### Examining Data"
   ]
  },
  {
   "cell_type": "code",
   "execution_count": null,
   "id": "19b55d63",
   "metadata": {},
   "outputs": [],
   "source": [
    "data.describe()"
   ]
  },
  {
   "cell_type": "code",
   "execution_count": null,
   "id": "775f4d8f",
   "metadata": {},
   "outputs": [],
   "source": [
    "data.info()"
   ]
  },
  {
   "cell_type": "markdown",
   "id": "37e76950",
   "metadata": {},
   "source": [
    "#### Dropping Columns"
   ]
  },
  {
   "cell_type": "code",
   "execution_count": null,
   "id": "7f070cdb",
   "metadata": {},
   "outputs": [],
   "source": [
    "data = data.drop(['Unnamed: 47', 'Unnamed: 48', 'Unnamed: 49', 'Unnamed: 50','Unnamed: 51'], axis = 1)\n",
    "data.tail()"
   ]
  },
  {
   "cell_type": "code",
   "execution_count": null,
   "id": "36ed9d2f",
   "metadata": {},
   "outputs": [],
   "source": [
    "data = data.drop(['level_0', 'level_1', 'level_2', 'level_3','level_4','color','feature_id','dr_class_id','class_id','1986','1987','1988','1989','1990','1991','1992','1993','1994','1995','1996','1997','1998'], axis = 1)\n",
    "data = data.reset_index(drop=True)\n",
    "data.tail()"
   ]
  },
  {
   "cell_type": "markdown",
   "id": "8a626080",
   "metadata": {},
   "source": [
    "#### Dropping Rows/Biomes"
   ]
  },
  {
   "cell_type": "code",
   "execution_count": null,
   "id": "4c0fefc5",
   "metadata": {},
   "outputs": [],
   "source": [
    "data = data[:40606]\n",
    "data"
   ]
  },
  {
   "cell_type": "markdown",
   "id": "c31a31db",
   "metadata": {},
   "source": [
    "#### Data Cleaning\n",
    "\n",
    ":\n",
    "Null Values"
   ]
  },
  {
   "cell_type": "code",
   "execution_count": null,
   "id": "15f94770",
   "metadata": {},
   "outputs": [],
   "source": [
    "threshold = 0.65\n",
    "data = data.dropna(thresh=len(data)* (1-threshold), axis=1)\n",
    "data"
   ]
  },
  {
   "cell_type": "code",
   "execution_count": null,
   "id": "533c8cfd",
   "metadata": {},
   "outputs": [],
   "source": [
    "data.isnull().sum()"
   ]
  },
  {
   "cell_type": "code",
   "execution_count": null,
   "id": "319b5539",
   "metadata": {},
   "outputs": [],
   "source": [
    "from skimpy import clean_columns\n",
    "from nltk.metrics import edit_distance\n",
    "   \n",
    "def fill_nans_with_means(df):\n",
    "    return df.fillna(df.mean()).round()\n",
    "\n",
    "x = fill_nans_with_means(data)\n",
    "x"
   ]
  },
  {
   "cell_type": "markdown",
   "id": "a274efd6",
   "metadata": {},
   "source": [
    "clnr = Cleaner(data)"
   ]
  },
  {
   "cell_type": "markdown",
   "id": "6ebb925a",
   "metadata": {},
   "source": [
    "clnr.cdf"
   ]
  },
  {
   "cell_type": "code",
   "execution_count": null,
   "id": "c1f08f43",
   "metadata": {},
   "outputs": [],
   "source": [
    "#x = x.astype(str).replace(r'\\.0$', '', regex=True)\n",
    "#x"
   ]
  },
  {
   "cell_type": "markdown",
   "id": "39fecaed",
   "metadata": {},
   "source": [
    "Splitting City Column"
   ]
  },
  {
   "cell_type": "code",
   "execution_count": null,
   "id": "deb3eae9",
   "metadata": {},
   "outputs": [],
   "source": [
    "ge = x['city'].str.split(' - ', expand=True)\n",
    "ge = ge.rename(columns={0: 'City', 2: 'Bioma'})\n",
    "x['city'] = ge['City']\n",
    "x = x.join(ge['Bioma'])"
   ]
  },
  {
   "cell_type": "code",
   "execution_count": null,
   "id": "e50937e6",
   "metadata": {
    "scrolled": true
   },
   "outputs": [],
   "source": [
    "x"
   ]
  },
  {
   "cell_type": "code",
   "execution_count": null,
   "id": "4d49961a",
   "metadata": {},
   "outputs": [],
   "source": [
    "x.rename(columns={'dr_class_name':'Deforestation'}, inplace=True)\n",
    "x"
   ]
  },
  {
   "cell_type": "code",
   "execution_count": null,
   "id": "223ff1f8",
   "metadata": {},
   "outputs": [],
   "source": [
    "#hot encode then can do this\n",
    "#data = data[~data['dr_class_name'] != Veg.Secundaria]"
   ]
  },
  {
   "cell_type": "code",
   "execution_count": null,
   "id": "d6d74e2c",
   "metadata": {},
   "outputs": [],
   "source": [
    "x = x[~x.isin(['Veg. Secundária', 'Supressão Veg. Primária','Recuperação para Veg. Secundária','Supressão Veg. Secundária','Outras transições']).any(axis=1)]\n",
    "x"
   ]
  },
  {
   "cell_type": "code",
   "execution_count": null,
   "id": "c2b0226f",
   "metadata": {},
   "outputs": [],
   "source": [
    "len(x['Deforestation'].unique())"
   ]
  },
  {
   "cell_type": "code",
   "execution_count": null,
   "id": "366d905d",
   "metadata": {
    "scrolled": true
   },
   "outputs": [],
   "source": [
    "x = x.groupby('city', as_index=False).sum()\n",
    "x"
   ]
  },
  {
   "cell_type": "code",
   "execution_count": null,
   "id": "0e140a39",
   "metadata": {
    "scrolled": true
   },
   "outputs": [],
   "source": [
    "data1 = pd.read_csv(\"tabelao-setores-SEEG-Municipios-2_0-GWP-AR5-FINAL-SITE.csv\", encoding = \"ISO-8859-1\") \n",
    "data1.tail()"
   ]
  },
  {
   "cell_type": "code",
   "execution_count": null,
   "id": "c858ceed",
   "metadata": {},
   "outputs": [],
   "source": [
    "data1.info()"
   ]
  },
  {
   "cell_type": "code",
   "execution_count": null,
   "id": "f61edfb1",
   "metadata": {},
   "outputs": [],
   "source": [
    "data1.bioma.unique()"
   ]
  },
  {
   "cell_type": "code",
   "execution_count": null,
   "id": "75055aa1",
   "metadata": {},
   "outputs": [],
   "source": [
    "data1 = data1[~data1.isin(['Caatinga', 'Mata Atlântica','Pantanal','Pampa']).any(axis=1)]\n",
    "data1"
   ]
  },
  {
   "cell_type": "code",
   "execution_count": null,
   "id": "bf5dc73f",
   "metadata": {},
   "outputs": [],
   "source": [
    "data1.rename(columns={'setor':'sector', 'municipio':'city', 'bioma':'biome', 'tipo_emissao':'type_of_emission','atividade_economica':'Economic_Activity'}, inplace=True)\n",
    "data1"
   ]
  },
  {
   "cell_type": "code",
   "execution_count": null,
   "id": "18bf036e",
   "metadata": {},
   "outputs": [],
   "source": [
    "data1 = data1[~data1.isin(['Energia Elétrica', 'Aluminio e Outros Não Ferrosos da Metalurgia','Ferro e Aço']).any(axis=1)]\n",
    "data1"
   ]
  },
  {
   "cell_type": "code",
   "execution_count": null,
   "id": "2e61f287",
   "metadata": {},
   "outputs": [],
   "source": [
    "data1 = data1[~data1.isin(['Remoção', 'Bunker']).any(axis=1)]\n",
    "data1"
   ]
  },
  {
   "cell_type": "code",
   "execution_count": null,
   "id": "3f322b28",
   "metadata": {},
   "outputs": [],
   "source": [
    "data1.nivel_2.unique()"
   ]
  },
  {
   "cell_type": "code",
   "execution_count": null,
   "id": "82abddd5",
   "metadata": {},
   "outputs": [],
   "source": [
    "data1 = data1[~data1.isin(['Cultivo de arroz','Emissões pela Queima de Combustíveis','Efluentes Liquidos']).any(axis=1)]\n",
    "data1"
   ]
  },
  {
   "cell_type": "code",
   "execution_count": null,
   "id": "8317948c",
   "metadata": {},
   "outputs": [],
   "source": [
    "data1 = data1[~data1.isin(['Produção de Combustíveis', 'Outras Industrias','Cimento','Residencial','Transporte','Metalurgia','Saneamento Básico','Uso de HFCs']).any(axis=1)]\n",
    "data1"
   ]
  },
  {
   "cell_type": "code",
   "execution_count": null,
   "id": "86bb909d",
   "metadata": {},
   "outputs": [],
   "source": [
    "data1.info()"
   ]
  },
  {
   "cell_type": "code",
   "execution_count": null,
   "id": "d3d3bb3b",
   "metadata": {},
   "outputs": [],
   "source": [
    "data1 = data1[~data1.isin(['Arroz', 'Feijão','Mandioca','Milho', 'Floresta primária -- Silvicultura', 'Floresta secundária -- Silvicultura','Vegetação não florestal secundária -- Silvicultura','Uso agropecuário -- Silvicultura' ]).any(axis=1)]\n",
    "data1"
   ]
  },
  {
   "cell_type": "code",
   "execution_count": null,
   "id": "55f714d9",
   "metadata": {},
   "outputs": [],
   "source": [
    "data1.nivel_6.unique()"
   ]
  },
  {
   "cell_type": "code",
   "execution_count": null,
   "id": "96fbb77e",
   "metadata": {},
   "outputs": [],
   "source": [
    "data1.isnull().sum()"
   ]
  },
  {
   "cell_type": "code",
   "execution_count": null,
   "id": "ac5dd376",
   "metadata": {},
   "outputs": [],
   "source": [
    "data1.info()"
   ]
  },
  {
   "cell_type": "code",
   "execution_count": null,
   "id": "68ac60f2",
   "metadata": {},
   "outputs": [],
   "source": [
    "data1 = data1.drop(['nivel_2', 'nivel_3', 'nivel_4', 'nivel_5','nivel_6','uf', 'ibge_cod', 'produto','sector','type_of_emission','Econonomic_Activity'], axis = 1)\n",
    "data1.tail()"
   ]
  },
  {
   "cell_type": "code",
   "execution_count": null,
   "id": "25291d26",
   "metadata": {},
   "outputs": [],
   "source": [
    "data1 = data1.groupby('city', as_index=False).sum()\n",
    "data1"
   ]
  },
  {
   "cell_type": "code",
   "execution_count": null,
   "id": "30c1cf72",
   "metadata": {},
   "outputs": [],
   "source": [
    "data1.info()"
   ]
  },
  {
   "cell_type": "code",
   "execution_count": null,
   "id": "0c435697",
   "metadata": {},
   "outputs": [],
   "source": [
    "###unique value each city column in each thingy \n",
    "x.city.unique()"
   ]
  },
  {
   "cell_type": "code",
   "execution_count": null,
   "id": "8fc2bb2a",
   "metadata": {},
   "outputs": [],
   "source": [
    "data1.city.unique()"
   ]
  },
  {
   "cell_type": "code",
   "execution_count": null,
   "id": "4203f92e",
   "metadata": {},
   "outputs": [],
   "source": [
    "#penultimateframe = pd.merge(, data1, on= 'city')\n",
    "#penultimateframe"
   ]
  },
  {
   "cell_type": "code",
   "execution_count": null,
   "id": "5119a54d",
   "metadata": {},
   "outputs": [],
   "source": [
    "#final = pd.merge(x, penultimateframe, on= 'biome')\n",
    "#final"
   ]
  },
  {
   "cell_type": "code",
   "execution_count": null,
   "id": "e9471efb",
   "metadata": {},
   "outputs": [],
   "source": [
    "import difflib\n",
    "\n",
    "def substitute_names(list_a, list_b):\n",
    "    for i, name_b in enumerate(list_b):\n",
    "        for name_a in list_a:\n",
    "            if difflib.SequenceMatcher(None, name_a, name_b).ratio() >= 0.9:\n",
    "                list_b[i] = name_a\n",
    "                break\n",
    "    return list_b\n",
    "\n",
    "substituted_list = substitute_names(x['city'], data1['city'])\n",
    "substituted_list"
   ]
  },
  {
   "cell_type": "code",
   "execution_count": null,
   "id": "86af3eaa",
   "metadata": {},
   "outputs": [],
   "source": []
  }
 ],
 "metadata": {
  "kernelspec": {
   "display_name": "Python 3 (ipykernel)",
   "language": "python",
   "name": "python3"
  },
  "language_info": {
   "codemirror_mode": {
    "name": "ipython",
    "version": 3
   },
   "file_extension": ".py",
   "mimetype": "text/x-python",
   "name": "python",
   "nbconvert_exporter": "python",
   "pygments_lexer": "ipython3",
   "version": "3.9.13"
  }
 },
 "nbformat": 4,
 "nbformat_minor": 5
}
