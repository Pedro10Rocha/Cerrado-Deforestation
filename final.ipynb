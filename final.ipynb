{
 "cells": [
  {
   "cell_type": "markdown",
   "id": "cbef536a",
   "metadata": {},
   "source": [
    "## FINAL PROJECT\n",
    "\n",
    "\n",
    "Imports"
   ]
  },
  {
   "cell_type": "code",
   "execution_count": 412,
   "id": "9b94c78e",
   "metadata": {},
   "outputs": [],
   "source": [
    "import numpy as np\n",
    "import pandas as pd\n",
    "from bs4 import BeautifulSoup\n",
    "import matplotlib.pyplot as plt\n",
    "import seaborn as sns\n",
    "import re #regular expressions library, \n",
    "%matplotlib inline\n",
    "import pandas as pd\n",
    "import numpy as np\n",
    "## plotting libraries\n",
    "from matplotlib import pyplot as plt\n",
    "import seaborn as sns\n",
    "## Sklearn libraries\n",
    "from sklearn import model_selection\n",
    "from sklearn.preprocessing import StandardScaler\n",
    "from sklearn.neighbors import KNeighborsClassifier\n",
    "from sklearn.metrics import plot_confusion_matrix\n",
    "from sklearn.metrics import accuracy_score, precision_score, recall_score\n",
    "from sklearn.tree import DecisionTreeClassifier\n",
    "from sklearn.tree import plot_tree\n",
    "\n",
    "import warnings\n",
    "warnings.filterwarnings('ignore')\n",
    "\n",
    "%matplotlib inline\n",
    "\n"
   ]
  },
  {
   "cell_type": "markdown",
   "id": "18c232be",
   "metadata": {},
   "source": [
    "## Dataset 1 - 'Deforestation'"
   ]
  },
  {
   "cell_type": "markdown",
   "id": "51125cdf",
   "metadata": {},
   "source": [
    "Read File"
   ]
  },
  {
   "cell_type": "code",
   "execution_count": 413,
   "id": "3f4f497f",
   "metadata": {
    "scrolled": true
   },
   "outputs": [
    {
     "data": {
      "text/html": [
       "<div>\n",
       "<style scoped>\n",
       "    .dataframe tbody tr th:only-of-type {\n",
       "        vertical-align: middle;\n",
       "    }\n",
       "\n",
       "    .dataframe tbody tr th {\n",
       "        vertical-align: top;\n",
       "    }\n",
       "\n",
       "    .dataframe thead th {\n",
       "        text-align: right;\n",
       "    }\n",
       "</style>\n",
       "<table border=\"1\" class=\"dataframe\">\n",
       "  <thead>\n",
       "    <tr style=\"text-align: right;\">\n",
       "      <th></th>\n",
       "      <th>feature_id</th>\n",
       "      <th>city</th>\n",
       "      <th>dr_class_id</th>\n",
       "      <th>dr_class_name</th>\n",
       "      <th>class_id</th>\n",
       "      <th>level_0</th>\n",
       "      <th>level_1</th>\n",
       "      <th>level_2</th>\n",
       "      <th>level_3</th>\n",
       "      <th>level_4</th>\n",
       "      <th>...</th>\n",
       "      <th>2017</th>\n",
       "      <th>2018</th>\n",
       "      <th>2019</th>\n",
       "      <th>2020</th>\n",
       "      <th>2021</th>\n",
       "      <th>Unnamed: 47</th>\n",
       "      <th>Unnamed: 48</th>\n",
       "      <th>Unnamed: 49</th>\n",
       "      <th>Unnamed: 50</th>\n",
       "      <th>Unnamed: 51</th>\n",
       "    </tr>\n",
       "  </thead>\n",
       "  <tbody>\n",
       "    <tr>\n",
       "      <th>0</th>\n",
       "      <td>17694</td>\n",
       "      <td>Alta Floresta D'Oeste - RO - AMAZNIA</td>\n",
       "      <td>2</td>\n",
       "      <td>Veg. Primária</td>\n",
       "      <td>3</td>\n",
       "      <td>Natural</td>\n",
       "      <td>1. Forest</td>\n",
       "      <td>Forest Formation</td>\n",
       "      <td>Forest Formation</td>\n",
       "      <td>Forest Formation</td>\n",
       "      <td>...</td>\n",
       "      <td>365644.432700</td>\n",
       "      <td>363193.864600</td>\n",
       "      <td>360503.203200</td>\n",
       "      <td>358538.720700</td>\n",
       "      <td>357198.874600</td>\n",
       "      <td>NaN</td>\n",
       "      <td>NaN</td>\n",
       "      <td>NaN</td>\n",
       "      <td>NaN</td>\n",
       "      <td>NaN</td>\n",
       "    </tr>\n",
       "    <tr>\n",
       "      <th>1</th>\n",
       "      <td>17694</td>\n",
       "      <td>Alta Floresta D'Oeste - RO - AMAZNIA</td>\n",
       "      <td>2</td>\n",
       "      <td>Veg. Primária</td>\n",
       "      <td>4</td>\n",
       "      <td>Natural</td>\n",
       "      <td>1. Forest</td>\n",
       "      <td>Savanna Formation</td>\n",
       "      <td>Savanna Formation</td>\n",
       "      <td>Savanna Formation</td>\n",
       "      <td>...</td>\n",
       "      <td>20800.064280</td>\n",
       "      <td>20718.161970</td>\n",
       "      <td>20649.343380</td>\n",
       "      <td>20623.539650</td>\n",
       "      <td>20227.278360</td>\n",
       "      <td>NaN</td>\n",
       "      <td>NaN</td>\n",
       "      <td>NaN</td>\n",
       "      <td>NaN</td>\n",
       "      <td>NaN</td>\n",
       "    </tr>\n",
       "    <tr>\n",
       "      <th>2</th>\n",
       "      <td>17694</td>\n",
       "      <td>Alta Floresta D'Oeste - RO - AMAZNIA</td>\n",
       "      <td>2</td>\n",
       "      <td>Veg. Primária</td>\n",
       "      <td>11</td>\n",
       "      <td>Natural</td>\n",
       "      <td>2. Non Forest Natural Formation</td>\n",
       "      <td>Wetland</td>\n",
       "      <td>Wetland</td>\n",
       "      <td>Wetland</td>\n",
       "      <td>...</td>\n",
       "      <td>355.064644</td>\n",
       "      <td>322.257587</td>\n",
       "      <td>276.055484</td>\n",
       "      <td>373.564129</td>\n",
       "      <td>224.389942</td>\n",
       "      <td>NaN</td>\n",
       "      <td>NaN</td>\n",
       "      <td>NaN</td>\n",
       "      <td>NaN</td>\n",
       "      <td>NaN</td>\n",
       "    </tr>\n",
       "    <tr>\n",
       "      <th>3</th>\n",
       "      <td>17694</td>\n",
       "      <td>Alta Floresta D'Oeste - RO - AMAZNIA</td>\n",
       "      <td>2</td>\n",
       "      <td>Veg. Primária</td>\n",
       "      <td>12</td>\n",
       "      <td>Natural</td>\n",
       "      <td>2. Non Forest Natural Formation</td>\n",
       "      <td>Grassland</td>\n",
       "      <td>Grassland</td>\n",
       "      <td>Grassland</td>\n",
       "      <td>...</td>\n",
       "      <td>59188.846780</td>\n",
       "      <td>59077.497700</td>\n",
       "      <td>58898.284080</td>\n",
       "      <td>58718.878630</td>\n",
       "      <td>58970.653490</td>\n",
       "      <td>NaN</td>\n",
       "      <td>NaN</td>\n",
       "      <td>NaN</td>\n",
       "      <td>NaN</td>\n",
       "      <td>NaN</td>\n",
       "    </tr>\n",
       "    <tr>\n",
       "      <th>4</th>\n",
       "      <td>17694</td>\n",
       "      <td>Alta Floresta D'Oeste - RO - AMAZNIA</td>\n",
       "      <td>3</td>\n",
       "      <td>Veg. Secundária</td>\n",
       "      <td>3</td>\n",
       "      <td>Natural</td>\n",
       "      <td>1. Forest</td>\n",
       "      <td>Forest Formation</td>\n",
       "      <td>Forest Formation</td>\n",
       "      <td>Forest Formation</td>\n",
       "      <td>...</td>\n",
       "      <td>12805.204110</td>\n",
       "      <td>13579.323100</td>\n",
       "      <td>13866.430380</td>\n",
       "      <td>13966.527790</td>\n",
       "      <td>13876.363360</td>\n",
       "      <td>NaN</td>\n",
       "      <td>NaN</td>\n",
       "      <td>NaN</td>\n",
       "      <td>NaN</td>\n",
       "      <td>NaN</td>\n",
       "    </tr>\n",
       "  </tbody>\n",
       "</table>\n",
       "<p>5 rows × 52 columns</p>\n",
       "</div>"
      ],
      "text/plain": [
       "   feature_id                                  city  dr_class_id  \\\n",
       "0       17694  Alta Floresta D'Oeste - RO - AMAZNIA            2   \n",
       "1       17694  Alta Floresta D'Oeste - RO - AMAZNIA            2   \n",
       "2       17694  Alta Floresta D'Oeste - RO - AMAZNIA            2   \n",
       "3       17694  Alta Floresta D'Oeste - RO - AMAZNIA            2   \n",
       "4       17694  Alta Floresta D'Oeste - RO - AMAZNIA            3   \n",
       "\n",
       "     dr_class_name  class_id  level_0                          level_1  \\\n",
       "0    Veg. Primária         3  Natural                        1. Forest   \n",
       "1    Veg. Primária         4  Natural                        1. Forest   \n",
       "2    Veg. Primária        11  Natural  2. Non Forest Natural Formation   \n",
       "3    Veg. Primária        12  Natural  2. Non Forest Natural Formation   \n",
       "4  Veg. Secundária         3  Natural                        1. Forest   \n",
       "\n",
       "             level_2            level_3            level_4  ...  \\\n",
       "0   Forest Formation   Forest Formation   Forest Formation  ...   \n",
       "1  Savanna Formation  Savanna Formation  Savanna Formation  ...   \n",
       "2            Wetland            Wetland            Wetland  ...   \n",
       "3          Grassland          Grassland          Grassland  ...   \n",
       "4   Forest Formation   Forest Formation   Forest Formation  ...   \n",
       "\n",
       "            2017           2018           2019           2020           2021  \\\n",
       "0  365644.432700  363193.864600  360503.203200  358538.720700  357198.874600   \n",
       "1   20800.064280   20718.161970   20649.343380   20623.539650   20227.278360   \n",
       "2     355.064644     322.257587     276.055484     373.564129     224.389942   \n",
       "3   59188.846780   59077.497700   58898.284080   58718.878630   58970.653490   \n",
       "4   12805.204110   13579.323100   13866.430380   13966.527790   13876.363360   \n",
       "\n",
       "   Unnamed: 47  Unnamed: 48  Unnamed: 49  Unnamed: 50  Unnamed: 51  \n",
       "0          NaN          NaN          NaN          NaN          NaN  \n",
       "1          NaN          NaN          NaN          NaN          NaN  \n",
       "2          NaN          NaN          NaN          NaN          NaN  \n",
       "3          NaN          NaN          NaN          NaN          NaN  \n",
       "4          NaN          NaN          NaN          NaN          NaN  \n",
       "\n",
       "[5 rows x 52 columns]"
      ]
     },
     "execution_count": 413,
     "metadata": {},
     "output_type": "execute_result"
    }
   ],
   "source": [
    "data = pd.read_csv(\"TABELA_GERAL_COL7_MAPBIOMAS_DESMAT_VEGSEC_UF.csv\") \n",
    "data.head()"
   ]
  },
  {
   "cell_type": "markdown",
   "id": "f99ba5e7",
   "metadata": {},
   "source": [
    "#### Examining Data"
   ]
  },
  {
   "cell_type": "code",
   "execution_count": 414,
   "id": "19b55d63",
   "metadata": {},
   "outputs": [
    {
     "ename": "MemoryError",
     "evalue": "Unable to allocate 35.4 MiB for an array with shape (41, 113280) and data type float64",
     "output_type": "error",
     "traceback": [
      "\u001b[1;31m---------------------------------------------------------------------------\u001b[0m",
      "\u001b[1;31mMemoryError\u001b[0m                               Traceback (most recent call last)",
      "\u001b[1;32m~\\AppData\\Local\\Temp\\ipykernel_13448\\3175101911.py\u001b[0m in \u001b[0;36m<module>\u001b[1;34m\u001b[0m\n\u001b[1;32m----> 1\u001b[1;33m \u001b[0mdata\u001b[0m\u001b[1;33m.\u001b[0m\u001b[0mdescribe\u001b[0m\u001b[1;33m(\u001b[0m\u001b[1;33m)\u001b[0m\u001b[1;33m\u001b[0m\u001b[1;33m\u001b[0m\u001b[0m\n\u001b[0m",
      "\u001b[1;32m~\\Documents\\Ananconda\\lib\\site-packages\\pandas\\core\\generic.py\u001b[0m in \u001b[0;36mdescribe\u001b[1;34m(self, percentiles, include, exclude, datetime_is_numeric)\u001b[0m\n\u001b[0;32m  10230\u001b[0m         \u001b[0mmax\u001b[0m            \u001b[0mNaN\u001b[0m      \u001b[1;36m3.0\u001b[0m\u001b[1;33m\u001b[0m\u001b[1;33m\u001b[0m\u001b[0m\n\u001b[0;32m  10231\u001b[0m         \"\"\"\n\u001b[1;32m> 10232\u001b[1;33m         return describe_ndframe(\n\u001b[0m\u001b[0;32m  10233\u001b[0m             \u001b[0mobj\u001b[0m\u001b[1;33m=\u001b[0m\u001b[0mself\u001b[0m\u001b[1;33m,\u001b[0m\u001b[1;33m\u001b[0m\u001b[1;33m\u001b[0m\u001b[0m\n\u001b[0;32m  10234\u001b[0m             \u001b[0minclude\u001b[0m\u001b[1;33m=\u001b[0m\u001b[0minclude\u001b[0m\u001b[1;33m,\u001b[0m\u001b[1;33m\u001b[0m\u001b[1;33m\u001b[0m\u001b[0m\n",
      "\u001b[1;32m~\\Documents\\Ananconda\\lib\\site-packages\\pandas\\core\\describe.py\u001b[0m in \u001b[0;36mdescribe_ndframe\u001b[1;34m(obj, include, exclude, datetime_is_numeric, percentiles)\u001b[0m\n\u001b[0;32m     92\u001b[0m         )\n\u001b[0;32m     93\u001b[0m \u001b[1;33m\u001b[0m\u001b[0m\n\u001b[1;32m---> 94\u001b[1;33m     \u001b[0mresult\u001b[0m \u001b[1;33m=\u001b[0m \u001b[0mdescriber\u001b[0m\u001b[1;33m.\u001b[0m\u001b[0mdescribe\u001b[0m\u001b[1;33m(\u001b[0m\u001b[0mpercentiles\u001b[0m\u001b[1;33m=\u001b[0m\u001b[0mpercentiles\u001b[0m\u001b[1;33m)\u001b[0m\u001b[1;33m\u001b[0m\u001b[1;33m\u001b[0m\u001b[0m\n\u001b[0m\u001b[0;32m     95\u001b[0m     \u001b[1;32mreturn\u001b[0m \u001b[0mcast\u001b[0m\u001b[1;33m(\u001b[0m\u001b[0mNDFrameT\u001b[0m\u001b[1;33m,\u001b[0m \u001b[0mresult\u001b[0m\u001b[1;33m)\u001b[0m\u001b[1;33m\u001b[0m\u001b[1;33m\u001b[0m\u001b[0m\n\u001b[0;32m     96\u001b[0m \u001b[1;33m\u001b[0m\u001b[0m\n",
      "\u001b[1;32m~\\Documents\\Ananconda\\lib\\site-packages\\pandas\\core\\describe.py\u001b[0m in \u001b[0;36mdescribe\u001b[1;34m(self, percentiles)\u001b[0m\n\u001b[0;32m    167\u001b[0m \u001b[1;33m\u001b[0m\u001b[0m\n\u001b[0;32m    168\u001b[0m     \u001b[1;32mdef\u001b[0m \u001b[0mdescribe\u001b[0m\u001b[1;33m(\u001b[0m\u001b[0mself\u001b[0m\u001b[1;33m,\u001b[0m \u001b[0mpercentiles\u001b[0m\u001b[1;33m:\u001b[0m \u001b[0mSequence\u001b[0m\u001b[1;33m[\u001b[0m\u001b[0mfloat\u001b[0m\u001b[1;33m]\u001b[0m \u001b[1;33m|\u001b[0m \u001b[0mnp\u001b[0m\u001b[1;33m.\u001b[0m\u001b[0mndarray\u001b[0m\u001b[1;33m)\u001b[0m \u001b[1;33m->\u001b[0m \u001b[0mDataFrame\u001b[0m\u001b[1;33m:\u001b[0m\u001b[1;33m\u001b[0m\u001b[1;33m\u001b[0m\u001b[0m\n\u001b[1;32m--> 169\u001b[1;33m         \u001b[0mdata\u001b[0m \u001b[1;33m=\u001b[0m \u001b[0mself\u001b[0m\u001b[1;33m.\u001b[0m\u001b[0m_select_data\u001b[0m\u001b[1;33m(\u001b[0m\u001b[1;33m)\u001b[0m\u001b[1;33m\u001b[0m\u001b[1;33m\u001b[0m\u001b[0m\n\u001b[0m\u001b[0;32m    170\u001b[0m \u001b[1;33m\u001b[0m\u001b[0m\n\u001b[0;32m    171\u001b[0m         \u001b[0mldesc\u001b[0m\u001b[1;33m:\u001b[0m \u001b[0mlist\u001b[0m\u001b[1;33m[\u001b[0m\u001b[0mSeries\u001b[0m\u001b[1;33m]\u001b[0m \u001b[1;33m=\u001b[0m \u001b[1;33m[\u001b[0m\u001b[1;33m]\u001b[0m\u001b[1;33m\u001b[0m\u001b[1;33m\u001b[0m\u001b[0m\n",
      "\u001b[1;32m~\\Documents\\Ananconda\\lib\\site-packages\\pandas\\core\\describe.py\u001b[0m in \u001b[0;36m_select_data\u001b[1;34m(self)\u001b[0m\n\u001b[0;32m    192\u001b[0m                 \u001b[1;31m# expected \"Type[number[Any]]\"\u001b[0m\u001b[1;33m\u001b[0m\u001b[1;33m\u001b[0m\u001b[0m\n\u001b[0;32m    193\u001b[0m                 \u001b[0mdefault_include\u001b[0m\u001b[1;33m.\u001b[0m\u001b[0mappend\u001b[0m\u001b[1;33m(\u001b[0m\u001b[1;34m\"datetime\"\u001b[0m\u001b[1;33m)\u001b[0m  \u001b[1;31m# type: ignore[arg-type]\u001b[0m\u001b[1;33m\u001b[0m\u001b[1;33m\u001b[0m\u001b[0m\n\u001b[1;32m--> 194\u001b[1;33m             \u001b[0mdata\u001b[0m \u001b[1;33m=\u001b[0m \u001b[0mself\u001b[0m\u001b[1;33m.\u001b[0m\u001b[0mobj\u001b[0m\u001b[1;33m.\u001b[0m\u001b[0mselect_dtypes\u001b[0m\u001b[1;33m(\u001b[0m\u001b[0minclude\u001b[0m\u001b[1;33m=\u001b[0m\u001b[0mdefault_include\u001b[0m\u001b[1;33m)\u001b[0m\u001b[1;33m\u001b[0m\u001b[1;33m\u001b[0m\u001b[0m\n\u001b[0m\u001b[0;32m    195\u001b[0m             \u001b[1;32mif\u001b[0m \u001b[0mlen\u001b[0m\u001b[1;33m(\u001b[0m\u001b[0mdata\u001b[0m\u001b[1;33m.\u001b[0m\u001b[0mcolumns\u001b[0m\u001b[1;33m)\u001b[0m \u001b[1;33m==\u001b[0m \u001b[1;36m0\u001b[0m\u001b[1;33m:\u001b[0m\u001b[1;33m\u001b[0m\u001b[1;33m\u001b[0m\u001b[0m\n\u001b[0;32m    196\u001b[0m                 \u001b[0mdata\u001b[0m \u001b[1;33m=\u001b[0m \u001b[0mself\u001b[0m\u001b[1;33m.\u001b[0m\u001b[0mobj\u001b[0m\u001b[1;33m\u001b[0m\u001b[1;33m\u001b[0m\u001b[0m\n",
      "\u001b[1;32m~\\Documents\\Ananconda\\lib\\site-packages\\pandas\\core\\frame.py\u001b[0m in \u001b[0;36mselect_dtypes\u001b[1;34m(self, include, exclude)\u001b[0m\n\u001b[0;32m   4379\u001b[0m             \u001b[1;32mreturn\u001b[0m \u001b[1;32mTrue\u001b[0m\u001b[1;33m\u001b[0m\u001b[1;33m\u001b[0m\u001b[0m\n\u001b[0;32m   4380\u001b[0m \u001b[1;33m\u001b[0m\u001b[0m\n\u001b[1;32m-> 4381\u001b[1;33m         \u001b[0mmgr\u001b[0m \u001b[1;33m=\u001b[0m \u001b[0mself\u001b[0m\u001b[1;33m.\u001b[0m\u001b[0m_mgr\u001b[0m\u001b[1;33m.\u001b[0m\u001b[0m_get_data_subset\u001b[0m\u001b[1;33m(\u001b[0m\u001b[0mpredicate\u001b[0m\u001b[1;33m)\u001b[0m\u001b[1;33m.\u001b[0m\u001b[0mcopy\u001b[0m\u001b[1;33m(\u001b[0m\u001b[1;33m)\u001b[0m\u001b[1;33m\u001b[0m\u001b[1;33m\u001b[0m\u001b[0m\n\u001b[0m\u001b[0;32m   4382\u001b[0m         \u001b[1;32mreturn\u001b[0m \u001b[0mtype\u001b[0m\u001b[1;33m(\u001b[0m\u001b[0mself\u001b[0m\u001b[1;33m)\u001b[0m\u001b[1;33m(\u001b[0m\u001b[0mmgr\u001b[0m\u001b[1;33m)\u001b[0m\u001b[1;33m.\u001b[0m\u001b[0m__finalize__\u001b[0m\u001b[1;33m(\u001b[0m\u001b[0mself\u001b[0m\u001b[1;33m)\u001b[0m\u001b[1;33m\u001b[0m\u001b[1;33m\u001b[0m\u001b[0m\n\u001b[0;32m   4383\u001b[0m \u001b[1;33m\u001b[0m\u001b[0m\n",
      "\u001b[1;32m~\\Documents\\Ananconda\\lib\\site-packages\\pandas\\core\\internals\\managers.py\u001b[0m in \u001b[0;36mcopy\u001b[1;34m(self, deep)\u001b[0m\n\u001b[0;32m    601\u001b[0m             \u001b[0mnew_axes\u001b[0m \u001b[1;33m=\u001b[0m \u001b[0mlist\u001b[0m\u001b[1;33m(\u001b[0m\u001b[0mself\u001b[0m\u001b[1;33m.\u001b[0m\u001b[0maxes\u001b[0m\u001b[1;33m)\u001b[0m\u001b[1;33m\u001b[0m\u001b[1;33m\u001b[0m\u001b[0m\n\u001b[0;32m    602\u001b[0m \u001b[1;33m\u001b[0m\u001b[0m\n\u001b[1;32m--> 603\u001b[1;33m         \u001b[0mres\u001b[0m \u001b[1;33m=\u001b[0m \u001b[0mself\u001b[0m\u001b[1;33m.\u001b[0m\u001b[0mapply\u001b[0m\u001b[1;33m(\u001b[0m\u001b[1;34m\"copy\"\u001b[0m\u001b[1;33m,\u001b[0m \u001b[0mdeep\u001b[0m\u001b[1;33m=\u001b[0m\u001b[0mdeep\u001b[0m\u001b[1;33m)\u001b[0m\u001b[1;33m\u001b[0m\u001b[1;33m\u001b[0m\u001b[0m\n\u001b[0m\u001b[0;32m    604\u001b[0m \u001b[1;33m\u001b[0m\u001b[0m\n\u001b[0;32m    605\u001b[0m         \u001b[0mres\u001b[0m\u001b[1;33m.\u001b[0m\u001b[0maxes\u001b[0m \u001b[1;33m=\u001b[0m \u001b[0mnew_axes\u001b[0m\u001b[1;33m\u001b[0m\u001b[1;33m\u001b[0m\u001b[0m\n",
      "\u001b[1;32m~\\Documents\\Ananconda\\lib\\site-packages\\pandas\\core\\internals\\managers.py\u001b[0m in \u001b[0;36mapply\u001b[1;34m(self, f, align_keys, ignore_failures, **kwargs)\u001b[0m\n\u001b[0;32m    302\u001b[0m                     \u001b[0mapplied\u001b[0m \u001b[1;33m=\u001b[0m \u001b[0mb\u001b[0m\u001b[1;33m.\u001b[0m\u001b[0mapply\u001b[0m\u001b[1;33m(\u001b[0m\u001b[0mf\u001b[0m\u001b[1;33m,\u001b[0m \u001b[1;33m**\u001b[0m\u001b[0mkwargs\u001b[0m\u001b[1;33m)\u001b[0m\u001b[1;33m\u001b[0m\u001b[1;33m\u001b[0m\u001b[0m\n\u001b[0;32m    303\u001b[0m                 \u001b[1;32melse\u001b[0m\u001b[1;33m:\u001b[0m\u001b[1;33m\u001b[0m\u001b[1;33m\u001b[0m\u001b[0m\n\u001b[1;32m--> 304\u001b[1;33m                     \u001b[0mapplied\u001b[0m \u001b[1;33m=\u001b[0m \u001b[0mgetattr\u001b[0m\u001b[1;33m(\u001b[0m\u001b[0mb\u001b[0m\u001b[1;33m,\u001b[0m \u001b[0mf\u001b[0m\u001b[1;33m)\u001b[0m\u001b[1;33m(\u001b[0m\u001b[1;33m**\u001b[0m\u001b[0mkwargs\u001b[0m\u001b[1;33m)\u001b[0m\u001b[1;33m\u001b[0m\u001b[1;33m\u001b[0m\u001b[0m\n\u001b[0m\u001b[0;32m    305\u001b[0m             \u001b[1;32mexcept\u001b[0m \u001b[1;33m(\u001b[0m\u001b[0mTypeError\u001b[0m\u001b[1;33m,\u001b[0m \u001b[0mNotImplementedError\u001b[0m\u001b[1;33m)\u001b[0m\u001b[1;33m:\u001b[0m\u001b[1;33m\u001b[0m\u001b[1;33m\u001b[0m\u001b[0m\n\u001b[0;32m    306\u001b[0m                 \u001b[1;32mif\u001b[0m \u001b[1;32mnot\u001b[0m \u001b[0mignore_failures\u001b[0m\u001b[1;33m:\u001b[0m\u001b[1;33m\u001b[0m\u001b[1;33m\u001b[0m\u001b[0m\n",
      "\u001b[1;32m~\\Documents\\Ananconda\\lib\\site-packages\\pandas\\core\\internals\\blocks.py\u001b[0m in \u001b[0;36mcopy\u001b[1;34m(self, deep)\u001b[0m\n\u001b[0;32m    641\u001b[0m         \u001b[0mvalues\u001b[0m \u001b[1;33m=\u001b[0m \u001b[0mself\u001b[0m\u001b[1;33m.\u001b[0m\u001b[0mvalues\u001b[0m\u001b[1;33m\u001b[0m\u001b[1;33m\u001b[0m\u001b[0m\n\u001b[0;32m    642\u001b[0m         \u001b[1;32mif\u001b[0m \u001b[0mdeep\u001b[0m\u001b[1;33m:\u001b[0m\u001b[1;33m\u001b[0m\u001b[1;33m\u001b[0m\u001b[0m\n\u001b[1;32m--> 643\u001b[1;33m             \u001b[0mvalues\u001b[0m \u001b[1;33m=\u001b[0m \u001b[0mvalues\u001b[0m\u001b[1;33m.\u001b[0m\u001b[0mcopy\u001b[0m\u001b[1;33m(\u001b[0m\u001b[1;33m)\u001b[0m\u001b[1;33m\u001b[0m\u001b[1;33m\u001b[0m\u001b[0m\n\u001b[0m\u001b[0;32m    644\u001b[0m         \u001b[1;32mreturn\u001b[0m \u001b[0mtype\u001b[0m\u001b[1;33m(\u001b[0m\u001b[0mself\u001b[0m\u001b[1;33m)\u001b[0m\u001b[1;33m(\u001b[0m\u001b[0mvalues\u001b[0m\u001b[1;33m,\u001b[0m \u001b[0mplacement\u001b[0m\u001b[1;33m=\u001b[0m\u001b[0mself\u001b[0m\u001b[1;33m.\u001b[0m\u001b[0m_mgr_locs\u001b[0m\u001b[1;33m,\u001b[0m \u001b[0mndim\u001b[0m\u001b[1;33m=\u001b[0m\u001b[0mself\u001b[0m\u001b[1;33m.\u001b[0m\u001b[0mndim\u001b[0m\u001b[1;33m)\u001b[0m\u001b[1;33m\u001b[0m\u001b[1;33m\u001b[0m\u001b[0m\n\u001b[0;32m    645\u001b[0m \u001b[1;33m\u001b[0m\u001b[0m\n",
      "\u001b[1;31mMemoryError\u001b[0m: Unable to allocate 35.4 MiB for an array with shape (41, 113280) and data type float64"
     ]
    }
   ],
   "source": [
    "data.describe()"
   ]
  },
  {
   "cell_type": "code",
   "execution_count": null,
   "id": "775f4d8f",
   "metadata": {},
   "outputs": [],
   "source": [
    "data.info()"
   ]
  },
  {
   "cell_type": "markdown",
   "id": "37e76950",
   "metadata": {},
   "source": [
    "#### Dropping Columns"
   ]
  },
  {
   "cell_type": "code",
   "execution_count": null,
   "id": "7f070cdb",
   "metadata": {},
   "outputs": [],
   "source": [
    "data = data.drop(['Unnamed: 47', 'Unnamed: 48', 'Unnamed: 49', 'Unnamed: 50','Unnamed: 51'], axis = 1)\n",
    "data.tail()"
   ]
  },
  {
   "cell_type": "code",
   "execution_count": null,
   "id": "36ed9d2f",
   "metadata": {},
   "outputs": [],
   "source": [
    "data = data.drop(['level_0', 'level_1', 'level_2', 'level_3','level_4','color','feature_id','dr_class_id','class_id','1986','1987','1988','1989','1990','1991','1992','1993','1994','1995','1996','1997','1998'], axis = 1)\n",
    "data = data.reset_index(drop=True)\n",
    "data.tail()"
   ]
  },
  {
   "cell_type": "markdown",
   "id": "8a626080",
   "metadata": {},
   "source": [
    "#### Dropping Biomes\n"
   ]
  },
  {
   "cell_type": "code",
   "execution_count": null,
   "id": "4c0fefc5",
   "metadata": {
    "scrolled": true
   },
   "outputs": [],
   "source": [
    "data = data[:40606]\n",
    "data"
   ]
  },
  {
   "cell_type": "markdown",
   "id": "c31a31db",
   "metadata": {},
   "source": [
    "#### Data Cleaning\n",
    "\n",
    "Null Values"
   ]
  },
  {
   "cell_type": "code",
   "execution_count": null,
   "id": "884a120f",
   "metadata": {},
   "outputs": [],
   "source": [
    "data.isnull().sum()"
   ]
  },
  {
   "cell_type": "code",
   "execution_count": null,
   "id": "15f94770",
   "metadata": {
    "scrolled": true
   },
   "outputs": [],
   "source": [
    "threshold = 0.65\n",
    "data = data.dropna(thresh=len(data)* (1-threshold), axis=1)\n",
    "data"
   ]
  },
  {
   "cell_type": "code",
   "execution_count": null,
   "id": "319b5539",
   "metadata": {},
   "outputs": [],
   "source": [
    "def fill_nans_with_means(df):\n",
    "    return df.fillna(df.mean()).round()\n",
    "\n",
    "x = fill_nans_with_means(data)\n",
    "x"
   ]
  },
  {
   "cell_type": "markdown",
   "id": "39fecaed",
   "metadata": {},
   "source": [
    "##### Cleaning Columns \n",
    "\n",
    "\n",
    "Splitting City Column"
   ]
  },
  {
   "cell_type": "code",
   "execution_count": null,
   "id": "deb3eae9",
   "metadata": {},
   "outputs": [],
   "source": [
    "ge = x['city'].str.split(' - ', expand=True)\n",
    "ge = ge.rename(columns={0: 'City', 2: 'Bioma'})\n",
    "x['city'] = ge['City']\n",
    "x = x.join(ge['Bioma'])\n",
    "x"
   ]
  },
  {
   "cell_type": "markdown",
   "id": "7cd1b92e",
   "metadata": {},
   "source": [
    "Renaming Columns"
   ]
  },
  {
   "cell_type": "code",
   "execution_count": null,
   "id": "4d49961a",
   "metadata": {},
   "outputs": [],
   "source": [
    "x.rename(columns={'dr_class_name':'Deforestation', 'setor':'sector', 'municipio':'city', 'bioma':'biome', 'tipo_emissao':'type_of_emission','atividade_economica':'economic_activity'}, inplace=True)\n",
    "x"
   ]
  },
  {
   "cell_type": "markdown",
   "id": "f0111f9d",
   "metadata": {},
   "source": [
    "#### Dropping Rows"
   ]
  },
  {
   "cell_type": "code",
   "execution_count": null,
   "id": "d6d74e2c",
   "metadata": {},
   "outputs": [],
   "source": [
    "x = x[~x.isin(['Veg. Secundária', 'Supressão Veg. Primária','Recuperação para Veg. Secundária','Supressão Veg. Secundária','Outras transições']).any(axis=1)]\n",
    "x"
   ]
  },
  {
   "cell_type": "code",
   "execution_count": null,
   "id": "c2b0226f",
   "metadata": {},
   "outputs": [],
   "source": [
    "len(x['Deforestation'].unique())"
   ]
  },
  {
   "cell_type": "markdown",
   "id": "83a2f087",
   "metadata": {},
   "source": [
    "#### Changing values towards 'Deforestation' - Change Name "
   ]
  },
  {
   "cell_type": "code",
   "execution_count": null,
   "id": "c63787de",
   "metadata": {},
   "outputs": [],
   "source": [
    "x"
   ]
  },
  {
   "cell_type": "markdown",
   "id": "3325d7a0",
   "metadata": {},
   "source": [
    "#### Lastly Groupby City"
   ]
  },
  {
   "cell_type": "code",
   "execution_count": null,
   "id": "366d905d",
   "metadata": {
    "scrolled": false
   },
   "outputs": [],
   "source": [
    "x = x.groupby(['city','Bioma'], as_index=False).sum()\n",
    "x"
   ]
  },
  {
   "cell_type": "code",
   "execution_count": null,
   "id": "cd50753f",
   "metadata": {},
   "outputs": [],
   "source": [
    "x"
   ]
  },
  {
   "cell_type": "markdown",
   "id": "091f17b0",
   "metadata": {},
   "source": [
    "## Dataset2 - 'C02 Emissions'"
   ]
  },
  {
   "cell_type": "markdown",
   "id": "5d237fad",
   "metadata": {},
   "source": [
    "Read"
   ]
  },
  {
   "cell_type": "code",
   "execution_count": null,
   "id": "0e140a39",
   "metadata": {
    "scrolled": false
   },
   "outputs": [],
   "source": [
    "data1 = pd.read_csv(\"tabelao-setores-SEEG-Municipios-2_0-GWP-AR5-FINAL-SITE.csv\", encoding = \"ISO-8859-1\") \n",
    "data1.tail()"
   ]
  },
  {
   "cell_type": "markdown",
   "id": "c50c7d47",
   "metadata": {},
   "source": [
    "Examining Data"
   ]
  },
  {
   "cell_type": "code",
   "execution_count": null,
   "id": "38c564d8",
   "metadata": {
    "scrolled": true
   },
   "outputs": [],
   "source": [
    "data1.info()"
   ]
  },
  {
   "cell_type": "code",
   "execution_count": null,
   "id": "aad55f31",
   "metadata": {},
   "outputs": [],
   "source": [
    "data1.bioma.unique()"
   ]
  },
  {
   "cell_type": "code",
   "execution_count": null,
   "id": "1b4cba5e",
   "metadata": {},
   "outputs": [],
   "source": [
    "data1"
   ]
  },
  {
   "cell_type": "markdown",
   "id": "4d27badc",
   "metadata": {},
   "source": [
    "#### Dropping Biomes"
   ]
  },
  {
   "cell_type": "code",
   "execution_count": null,
   "id": "2fc65ac9",
   "metadata": {},
   "outputs": [],
   "source": [
    "data1 = data1[~data1.isin(['Caatinga', 'Mata Atlântica','Pantanal','Pampa']).any(axis=1)]\n",
    "data1"
   ]
  },
  {
   "cell_type": "markdown",
   "id": "e07d75e4",
   "metadata": {},
   "source": [
    "#### Dropping Rows"
   ]
  },
  {
   "cell_type": "code",
   "execution_count": null,
   "id": "9ac03adb",
   "metadata": {},
   "outputs": [],
   "source": [
    "data1 = data1[~data1.isin(['Energia Elétrica', 'Aluminio e Outros Não Ferrosos da Metalurgia','Ferro e Aço']).any(axis=1)]\n",
    "data1"
   ]
  },
  {
   "cell_type": "code",
   "execution_count": null,
   "id": "97b5238c",
   "metadata": {},
   "outputs": [],
   "source": [
    "data1 = data1[~data1.isin(['Remoção', 'Bunker']).any(axis=1)]\n",
    "data1"
   ]
  },
  {
   "cell_type": "code",
   "execution_count": null,
   "id": "5d6317ce",
   "metadata": {},
   "outputs": [],
   "source": [
    "data1.nivel_2.unique()"
   ]
  },
  {
   "cell_type": "code",
   "execution_count": null,
   "id": "f5f4ca4d",
   "metadata": {},
   "outputs": [],
   "source": [
    "data1 = data1[~data1.isin(['Cultivo de arroz','Emissões pela Queima de Combustíveis','Efluentes Liquidos']).any(axis=1)]\n",
    "data1"
   ]
  },
  {
   "cell_type": "code",
   "execution_count": null,
   "id": "40b65731",
   "metadata": {},
   "outputs": [],
   "source": [
    "data1 = data1[~data1.isin(['Produção de Combustíveis', 'Outras Industrias','Cimento','Residencial','Transporte','Metalurgia','Saneamento Básico','Uso de HFCs']).any(axis=1)]\n",
    "data1"
   ]
  },
  {
   "cell_type": "code",
   "execution_count": null,
   "id": "fd2165be",
   "metadata": {},
   "outputs": [],
   "source": [
    "data1 = data1[~data1.isin(['Arroz', 'Feijão','Mandioca','Milho', 'Floresta primária -- Silvicultura', 'Floresta secundária -- Silvicultura','Vegetação não florestal secundária -- Silvicultura','Uso agropecuário -- Silvicultura' ]).any(axis=1)]\n",
    "data1"
   ]
  },
  {
   "cell_type": "code",
   "execution_count": null,
   "id": "b3b5453f",
   "metadata": {},
   "outputs": [],
   "source": [
    "data1.nivel_6.unique()"
   ]
  },
  {
   "cell_type": "code",
   "execution_count": null,
   "id": "8292f2d5",
   "metadata": {},
   "outputs": [],
   "source": [
    "data1"
   ]
  },
  {
   "cell_type": "code",
   "execution_count": null,
   "id": "5a980236",
   "metadata": {},
   "outputs": [],
   "source": [
    "data1 = data1.drop(['nivel_2', 'nivel_3', 'nivel_4', 'nivel_5','nivel_6','uf', 'ibge_cod', 'produto','setor','atividade_economica','tipo_emissao'], axis = 1)\n",
    "data1.head()"
   ]
  },
  {
   "cell_type": "markdown",
   "id": "73ab3428",
   "metadata": {},
   "source": [
    "Null Values"
   ]
  },
  {
   "cell_type": "code",
   "execution_count": null,
   "id": "2290b74d",
   "metadata": {},
   "outputs": [],
   "source": [
    "data1.isnull().sum()"
   ]
  },
  {
   "cell_type": "markdown",
   "id": "39273834",
   "metadata": {},
   "source": [
    "Renaming column"
   ]
  },
  {
   "cell_type": "code",
   "execution_count": null,
   "id": "9c098bba",
   "metadata": {},
   "outputs": [],
   "source": [
    "data1.rename(columns={'municipio':'city'}, inplace=True)\n",
    "data1"
   ]
  },
  {
   "cell_type": "markdown",
   "id": "dc5ce57a",
   "metadata": {},
   "source": [
    "### Adding Bioma to Third Dataset Getting Prepared"
   ]
  },
  {
   "cell_type": "code",
   "execution_count": null,
   "id": "cdbb8764",
   "metadata": {},
   "outputs": [],
   "source": [
    " data1[['city','bioma']].set_index('bioma')"
   ]
  },
  {
   "cell_type": "code",
   "execution_count": null,
   "id": "4e59e8f9",
   "metadata": {},
   "outputs": [],
   "source": [
    "city_biom_dict=dict(data1[['city','bioma']].values)\n",
    "city_biom_dict"
   ]
  },
  {
   "cell_type": "code",
   "execution_count": null,
   "id": "26c80249",
   "metadata": {
    "scrolled": true
   },
   "outputs": [],
   "source": [
    "#city_biom_records = data1[['city','bioma']].drop_duplicates().to_dict('records')"
   ]
  },
  {
   "cell_type": "code",
   "execution_count": null,
   "id": "71483281",
   "metadata": {},
   "outputs": [],
   "source": [
    "#city_biom_records"
   ]
  },
  {
   "cell_type": "markdown",
   "id": "3d82ef6e",
   "metadata": {},
   "source": [
    "#### Lastly Groupby City"
   ]
  },
  {
   "cell_type": "code",
   "execution_count": null,
   "id": "ff5d0389",
   "metadata": {},
   "outputs": [],
   "source": [
    "#data1 = data1.groupby('city', as_index=False).sum()\n",
    "#data1\n"
   ]
  },
  {
   "cell_type": "markdown",
   "id": "5a2da8ca",
   "metadata": {},
   "source": [
    "## Dataset3 - 'Imports'\n",
    "\n",
    "Import"
   ]
  },
  {
   "cell_type": "code",
   "execution_count": null,
   "id": "bf07acb2",
   "metadata": {},
   "outputs": [],
   "source": [
    "data3 = pd.read_csv(\"expo_combined.csv\") \n",
    "data3.head()"
   ]
  },
  {
   "cell_type": "code",
   "execution_count": null,
   "id": "ad3cc65a",
   "metadata": {},
   "outputs": [],
   "source": [
    "n=0\n",
    "\n",
    "for city in data3['Município']:\n",
    "    if city == city_biom_dict[n]:\n",
    "        data3['Biome'] = city_biom_dict.values[0]\n",
    "        n+=1\n",
    "        "
   ]
  },
  {
   "cell_type": "code",
   "execution_count": null,
   "id": "187b69b9",
   "metadata": {},
   "outputs": [],
   "source": [
    "data3"
   ]
  },
  {
   "cell_type": "code",
   "execution_count": null,
   "id": "e894d31d",
   "metadata": {},
   "outputs": [],
   "source": []
  },
  {
   "cell_type": "code",
   "execution_count": null,
   "id": "62551e34",
   "metadata": {},
   "outputs": [],
   "source": []
  },
  {
   "cell_type": "code",
   "execution_count": null,
   "id": "fa614d3b",
   "metadata": {},
   "outputs": [],
   "source": []
  },
  {
   "cell_type": "code",
   "execution_count": null,
   "id": "b96fe3c2",
   "metadata": {},
   "outputs": [],
   "source": []
  },
  {
   "cell_type": "markdown",
   "id": "9e582d12",
   "metadata": {},
   "source": [
    "## Concatenating Datasets\n",
    "\n",
    "Through their 'city' column"
   ]
  },
  {
   "cell_type": "code",
   "execution_count": null,
   "id": "8e94c498",
   "metadata": {},
   "outputs": [],
   "source": [
    "data1.city.unique()"
   ]
  },
  {
   "cell_type": "code",
   "execution_count": null,
   "id": "f5519ba9",
   "metadata": {},
   "outputs": [],
   "source": [
    "x.city.unique()"
   ]
  },
  {
   "cell_type": "code",
   "execution_count": null,
   "id": "28afcbbf",
   "metadata": {},
   "outputs": [],
   "source": [
    ".city.unique()"
   ]
  },
  {
   "cell_type": "markdown",
   "id": "0bbc37d0",
   "metadata": {},
   "source": [
    "### Cleaning Lists So That They Match"
   ]
  },
  {
   "cell_type": "code",
   "execution_count": null,
   "id": "b9922530",
   "metadata": {},
   "outputs": [],
   "source": [
    "import difflib\n",
    "\n",
    "def substitute_names(list_a, list_b):\n",
    "    for i, name_b in enumerate(list_b):\n",
    "        for name_a in list_a:\n",
    "            if difflib.SequenceMatcher(None, name_a, name_b).ratio() >= 0.7:\n",
    "                list_b[i] = name_a\n",
    "                break\n",
    "    return list_b\n",
    "\n",
    "substituted_list = substitute_names(data1['city'], x['city'])\n",
    "substituted_list"
   ]
  },
  {
   "cell_type": "code",
   "execution_count": null,
   "id": "5126a021",
   "metadata": {},
   "outputs": [],
   "source": [
    "x.city"
   ]
  },
  {
   "cell_type": "markdown",
   "id": "41572aeb",
   "metadata": {},
   "source": [
    "### Reset All Indexes to the Year"
   ]
  },
  {
   "cell_type": "code",
   "execution_count": null,
   "id": "8418e4bb",
   "metadata": {},
   "outputs": [],
   "source": [
    "#data.transpose()"
   ]
  },
  {
   "cell_type": "code",
   "execution_count": null,
   "id": "84ed9a1b",
   "metadata": {},
   "outputs": [],
   "source": [
    "#x.transpose()"
   ]
  },
  {
   "cell_type": "code",
   "execution_count": null,
   "id": "330f0aa5",
   "metadata": {},
   "outputs": [],
   "source": [
    "#.transpose()\n",
    "    "
   ]
  },
  {
   "cell_type": "markdown",
   "id": "cf37348a",
   "metadata": {},
   "source": [
    "### Final Merge "
   ]
  },
  {
   "cell_type": "code",
   "execution_count": null,
   "id": "c6fb38fb",
   "metadata": {},
   "outputs": [],
   "source": [
    "#final = pd.merge(    ,x, data1, on= 'city')\n",
    "#final"
   ]
  },
  {
   "cell_type": "markdown",
   "id": "cd06bacd",
   "metadata": {},
   "source": [
    "## Granger Causality"
   ]
  },
  {
   "cell_type": "markdown",
   "id": "83d9d46c",
   "metadata": {},
   "source": [
    "fig, axes = plt.subplots(nrows=4, ncols=2, dpi=120, figsize=(10,6))\n",
    "for i, ax in enumerate(axes.flatten()):\n",
    "    data = df[df.columns[i]]\n",
    "    ax.plot(data, color='red', linewidth=1)\n",
    "    # Decorations\n",
    "    ax.set_title(df.columns[i])\n",
    "    ax.xaxis.set_ticks_position('none')\n",
    "    ax.yaxis.set_ticks_position('none')\n",
    "    ax.spines[\"top\"].set_alpha(0)\n",
    "    ax.tick_params(labelsize=6)\n",
    "\n",
    "plt.tight_layout();"
   ]
  },
  {
   "cell_type": "markdown",
   "id": "67238e58",
   "metadata": {},
   "source": [
    "from statsmodels.tsa.stattools import grangercausalitytests\n",
    "maxlag=12\n",
    "test = 'ssr_chi2test'\n",
    "def grangers_causation_matrix(data, variables, test='ssr_chi2test', verbose=False):    \n",
    "    \"\"\"Check Granger Causality of all possible combinations of the Time series.\n",
    "    The rows are the response variable, columns are predictors. The values in the table \n",
    "    are the P-Values. P-Values lesser than the significance level (0.05), implies \n",
    "    the Null Hypothesis that the coefficients of the corresponding past values is \n",
    "    zero, that is, the X does not cause Y can be rejected.\n",
    "\n",
    "    data      : pandas dataframe containing the time series variables\n",
    "    variables : list containing names of the time series variables.\n",
    "    \"\"\"\n",
    "    df = pd.DataFrame(np.zeros((len(variables), len(variables))), columns=variables, index=variables)\n",
    "    for c in df.columns:\n",
    "        for r in df.index:\n",
    "            test_result = grangercausalitytests(data[[r, c]], maxlag=maxlag, verbose=False)\n",
    "            p_values = [round(test_result[i+1][0][test][1],4) for i in range(maxlag)]\n",
    "            if verbose: print(f'Y = {r}, X = {c}, P Values = {p_values}')\n",
    "            min_p_value = np.min(p_values)\n",
    "            df.loc[r, c] = min_p_value\n",
    "    df.columns = [var + '_x' for var in variables]\n",
    "    df.index = [var + '_y' for var in variables]\n",
    "    return df\n",
    "\n",
    "grangers_causation_matrix(df, variables = df.columns)      "
   ]
  },
  {
   "cell_type": "markdown",
   "id": "f5d82e77",
   "metadata": {},
   "source": [
    "from statsmodels.tsa.vector_ar.vecm import coint_johansen\n",
    "\n",
    "def cointegration_test(df, alpha=0.05): \n",
    "    \"\"\"Perform Johanson's Cointegration Test and Report Summary\"\"\"\n",
    "    out = coint_johansen(df,-1,5)\n",
    "    d = {'0.90':0, '0.95':1, '0.99':2}\n",
    "    traces = out.lr1\n",
    "    cvts = out.cvt[:, d[str(1-alpha)]]\n",
    "    def adjust(val, length= 6): return str(val).ljust(length)\n",
    "\n",
    "    # Summary\n",
    "    print('Name   ::  Test Stat > C(95%)    =>   Signif  \\n', '--'*20)\n",
    "    for col, trace, cvt in zip(df.columns, traces, cvts):\n",
    "        print(adjust(col), ':: ', adjust(round(trace,2), 9), \">\", adjust(cvt, 8), ' =>  ' , trace > cvt)\n",
    "\n",
    "cointegration_test(df)"
   ]
  },
  {
   "cell_type": "markdown",
   "id": "e7246666",
   "metadata": {},
   "source": [
    "nobs = 4\n",
    "df_train, df_test = df[0:-nobs], df[-nobs:]\n",
    "\n",
    "Check size\n",
    "print(df_train.shape)  # (119, 8)\n",
    "print(df_test.shape)  # (4, 8)"
   ]
  },
  {
   "cell_type": "markdown",
   "id": "17f626aa",
   "metadata": {},
   "source": [
    "def adfuller_test(series, signif=0.05, name='', verbose=False):\n",
    "    \"\"\"Perform ADFuller to test for Stationarity of given series and print report\"\"\"\n",
    "    r = adfuller(series, autolag='AIC')\n",
    "    output = {'test_statistic':round(r[0], 4), 'pvalue':round(r[1], 4), 'n_lags':round(r[2], 4), 'n_obs':r[3]}\n",
    "    p_value = output['pvalue'] \n",
    "    def adjust(val, length= 6): return str(val).ljust(length)\n",
    "\n",
    "    # Print Summary\n",
    "    print(f'    Augmented Dickey-Fuller Test on \"{name}\"', \"\\n   \", '-'*47)\n",
    "    print(f' Null Hypothesis: Data has unit root. Non-Stationary.')\n",
    "    print(f' Significance Level    = {signif}')\n",
    "    print(f' Test Statistic        = {output[\"test_statistic\"]}')\n",
    "    print(f' No. Lags Chosen       = {output[\"n_lags\"]}')\n",
    "\n",
    "    for key,val in r[4].items():\n",
    "        print(f' Critical value {adjust(key)} = {round(val, 3)}')\n",
    "\n",
    "    if p_value <= signif:\n",
    "        print(f\" => P-Value = {p_value}. Rejecting Null Hypothesis.\")\n",
    "        print(f\" => Series is Stationary.\")\n",
    "    else:\n",
    "        print(f\" => P-Value = {p_value}. Weak evidence to reject the Null Hypothesis.\")\n",
    "        print(f\" => Series is Non-Stationary.\")    "
   ]
  },
  {
   "cell_type": "markdown",
   "id": "39b6471f",
   "metadata": {},
   "source": [
    "ADF Test on each column\n",
    "for name, column in df_train.iteritems():\n",
    "    adfuller_test(column, name=column.name)\n",
    "    print('\\n')"
   ]
  },
  {
   "cell_type": "markdown",
   "id": "177fe59b",
   "metadata": {},
   "source": [
    "1st difference\n",
    "df_differenced = df_train.diff().dropna()"
   ]
  },
  {
   "cell_type": "markdown",
   "id": "cb73a2ff",
   "metadata": {},
   "source": [
    "ADF Test on each column of 1st Differences Dataframe\n",
    "for name, column in df_differenced.iteritems():\n",
    "    adfuller_test(column, name=column.name)\n",
    "    print('\\n')"
   ]
  },
  {
   "cell_type": "markdown",
   "id": "747c983b",
   "metadata": {},
   "source": [
    "Second Differencing\n",
    "df_differenced = df_differenced.diff().dropna()"
   ]
  },
  {
   "cell_type": "markdown",
   "id": "35bbae55",
   "metadata": {},
   "source": [
    "ADF Test on each column of 2nd Differences Dataframe\n",
    "for name, column in df_differenced.iteritems():\n",
    "    adfuller_test(column, name=column.name)\n",
    "    print('\\n')\n"
   ]
  },
  {
   "cell_type": "markdown",
   "id": "1fda4cd0",
   "metadata": {},
   "source": [
    "model = VAR(df_differenced)\n",
    "for i in [1,2,3,4,5,6,7,8,9]:\n",
    "    result = model.fit(i)\n",
    "    print('Lag Order =', i)\n",
    "    print('AIC : ', result.aic)\n",
    "    print('BIC : ', result.bic)\n",
    "    print('FPE : ', result.fpe)\n",
    "    print('HQIC: ', result.hqic, '\\n')"
   ]
  },
  {
   "cell_type": "markdown",
   "id": "2b570d56",
   "metadata": {},
   "source": [
    "x = model.select_order(maxlags=12)\n",
    "x.summary()"
   ]
  },
  {
   "cell_type": "markdown",
   "id": "3b157f22",
   "metadata": {},
   "source": [
    "model_fitted = model.fit(4)\n",
    "model_fitted.summary()"
   ]
  },
  {
   "cell_type": "markdown",
   "id": "5979b59a",
   "metadata": {},
   "source": [
    "from statsmodels.stats.stattools import durbin_watson\n",
    "out = durbin_watson(model_fitted.resid)\n",
    "\n",
    "for col, val in zip(df.columns, out):\n",
    "    print(adjust(col), ':', round(val, 2))"
   ]
  },
  {
   "cell_type": "markdown",
   "id": "4f77c01a",
   "metadata": {},
   "source": [
    "Get the lag order\n",
    "lag_order = model_fitted.k_ar\n",
    "print(lag_order)  #> 4\n",
    "\n",
    "Input data for forecasting\n",
    "forecast_input = df_differenced.values[-lag_order:]\n",
    "forecast_input"
   ]
  },
  {
   "cell_type": "markdown",
   "id": "77142d53",
   "metadata": {},
   "source": [
    "array"
   ]
  },
  {
   "cell_type": "markdown",
   "id": "4bc73f1f",
   "metadata": {},
   "source": [
    "fc = model_fitted.forecast(y=forecast_input, steps=nobs)\n",
    "df_forecast = pd.DataFrame(fc, index=df.index[-nobs:], columns=df.columns + '_2d')\n",
    "df_forecast"
   ]
  },
  {
   "cell_type": "markdown",
   "id": "029a5b81",
   "metadata": {},
   "source": [
    "def invert_transformation(df_train, df_forecast, second_diff=False):\n",
    "    \"\"\"Revert back the differencing to get the forecast to original scale.\"\"\"\n",
    "    df_fc = df_forecast.copy()\n",
    "    columns = df_train.columns\n",
    "    for col in columns:        \n",
    "        # Roll back 2nd Diff\n",
    "        if second_diff:\n",
    "            df_fc[str(col)+'_1d'] = (df_train[col].iloc[-1]-df_train[col].iloc[-2]) + df_fc[str(col)+'_2d'].cumsum()\n",
    "        # Roll back 1st Diff\n",
    "        df_fc[str(col)+'_forecast'] = df_train[col].iloc[-1] + df_fc[str(col)+'_1d'].cumsum()\n",
    "    return df_fc"
   ]
  },
  {
   "cell_type": "markdown",
   "id": "961fde43",
   "metadata": {},
   "source": [
    "df_results = invert_transformation(train, df_forecast, second_diff=True)        \n",
    "df_results.loc[:, ['rgnp_forecast', 'pgnp_forecast', 'ulc_forecast', 'gdfco_forecast',\n",
    "                   'gdf_forecast', 'gdfim_forecast', 'gdfcf_forecast', 'gdfce_forecast']]"
   ]
  },
  {
   "cell_type": "markdown",
   "id": "8a64ae1e",
   "metadata": {},
   "source": [
    "fig, axes = plt.subplots(nrows=int(len(df.columns)/2), ncols=2, dpi=150, figsize=(10,10))\n",
    "for i, (col,ax) in enumerate(zip(df.columns, axes.flatten())):\n",
    "    df_results[col+'_forecast'].plot(legend=True, ax=ax).autoscale(axis='x',tight=True)\n",
    "    df_test[col][-nobs:].plot(legend=True, ax=ax);\n",
    "    ax.set_title(col + \": Forecast vs Actuals\")\n",
    "    ax.xaxis.set_ticks_position('none')\n",
    "    ax.yaxis.set_ticks_position('none')\n",
    "    ax.spines[\"top\"].set_alpha(0)\n",
    "    ax.tick_params(labelsize=6)\n",
    "\n",
    "plt.tight_layout();"
   ]
  },
  {
   "cell_type": "markdown",
   "id": "6f32f2de",
   "metadata": {},
   "source": [
    "from statsmodels.tsa.stattools import acf\n",
    "def forecast_accuracy(forecast, actual):\n",
    "    mape = np.mean(np.abs(forecast - actual)/np.abs(actual))  # MAPE\n",
    "    me = np.mean(forecast - actual)             # ME\n",
    "    mae = np.mean(np.abs(forecast - actual))    # MAE\n",
    "    mpe = np.mean((forecast - actual)/actual)   # MPE\n",
    "    rmse = np.mean((forecast - actual)**2)**.5  # RMSE\n",
    "    corr = np.corrcoef(forecast, actual)[0,1]   # corr\n",
    "    mins = np.amin(np.hstack([forecast[:,None], \n",
    "                              actual[:,None]]), axis=1)\n",
    "    maxs = np.amax(np.hstack([forecast[:,None], \n",
    "                              actual[:,None]]), axis=1)\n",
    "    minmax = 1 - np.mean(mins/maxs)             # minmax\n",
    "    return({'mape':mape, 'me':me, 'mae': mae, \n",
    "            'mpe': mpe, 'rmse':rmse, 'corr':corr, 'minmax':minmax})\n",
    "\n",
    "print('Forecast Accuracy of: rgnp')\n",
    "accuracy_prod = forecast_accuracy(df_results['rgnp_forecast'].values, df_test['rgnp'])\n",
    "for k, v in accuracy_prod.items():\n",
    "    print(adjust(k), ': ', round(v,4))\n",
    "\n",
    "print('\\nForecast Accuracy of: pgnp')\n",
    "accuracy_prod = forecast_accuracy(df_results['pgnp_forecast'].values, df_test['pgnp'])\n",
    "for k, v in accuracy_prod.items():\n",
    "    print(adjust(k), ': ', round(v,4))\n",
    "\n",
    "print('\\nForecast Accuracy of: ulc')\n",
    "accuracy_prod = forecast_accuracy(df_results['ulc_forecast'].values, df_test['ulc'])\n",
    "for k, v in accuracy_prod.items():\n",
    "    print(adjust(k), ': ', round(v,4))\n",
    "\n",
    "print('\\nForecast Accuracy of: gdfco')\n",
    "accuracy_prod = forecast_accuracy(df_results['gdfco_forecast'].values, df_test['gdfco'])\n",
    "for k, v in accuracy_prod.items():\n",
    "    print(adjust(k), ': ', round(v,4))\n",
    "\n",
    "print('\\nForecast Accuracy of: gdf')\n",
    "accuracy_prod = forecast_accuracy(df_results['gdf_forecast'].values, df_test['gdf'])\n",
    "for k, v in accuracy_prod.items():\n",
    "    print(adjust(k), ': ', round(v,4))\n",
    "\n",
    "print('\\nForecast Accuracy of: gdfim')\n",
    "accuracy_prod = forecast_accuracy(df_results['gdfim_forecast'].values, df_test['gdfim'])\n",
    "for k, v in accuracy_prod.items():\n",
    "    print(adjust(k), ': ', round(v,4))\n",
    "\n",
    "print('\\nForecast Accuracy of: gdfcf')\n",
    "accuracy_prod = forecast_accuracy(df_results['gdfcf_forecast'].values, df_test['gdfcf'])\n",
    "for k, v in accuracy_prod.items():\n",
    "    print(adjust(k), ': ', round(v,4))\n",
    "\n",
    "print('\\nForecast Accuracy of: gdfce')\n",
    "accuracy_prod = forecast_accuracy(df_results['gdfce_forecast'].values, df_test['gdfce'])\n",
    "for k, v in accuracy_prod.items():\n",
    "    print(adjust(k), ': ', round(v,4))"
   ]
  },
  {
   "cell_type": "code",
   "execution_count": null,
   "id": "725871ff",
   "metadata": {},
   "outputs": [],
   "source": []
  }
 ],
 "metadata": {
  "kernelspec": {
   "display_name": "Python 3 (ipykernel)",
   "language": "python",
   "name": "python3"
  },
  "language_info": {
   "codemirror_mode": {
    "name": "ipython",
    "version": 3
   },
   "file_extension": ".py",
   "mimetype": "text/x-python",
   "name": "python",
   "nbconvert_exporter": "python",
   "pygments_lexer": "ipython3",
   "version": "3.9.13"
  }
 },
 "nbformat": 4,
 "nbformat_minor": 5
}
